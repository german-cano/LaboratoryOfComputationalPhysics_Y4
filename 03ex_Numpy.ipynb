{
 "cells": [
  {
   "cell_type": "markdown",
   "metadata": {},
   "source": [
    "### Numpy basics"
   ]
  },
  {
   "cell_type": "markdown",
   "metadata": {},
   "source": [
    "1\\. Find the row, column and overall means for the following matrix:\n",
    "\n",
    "```python\n",
    "m = np.arange(12).reshape((3,4))\n",
    "```"
   ]
  },
  {
   "cell_type": "code",
   "execution_count": 100,
   "metadata": {},
   "outputs": [
    {
     "name": "stdout",
     "output_type": "stream",
     "text": [
      "[[ 0  1  2  3]\n",
      " [ 4  5  6  7]\n",
      " [ 8  9 10 11]]\n",
      "\n",
      " rm: [1.5 5.5 9.5]\n",
      "\n",
      " cm: [4. 5. 6. 7.]\n",
      "\n",
      " ovm: 5.5\n"
     ]
    }
   ],
   "source": [
    "import numpy as np\n",
    "\n",
    "m = np.arange(12).reshape((3,4))\n",
    "print(m)\n",
    "\n",
    "rm=np.sum(m,axis=1)/m.shape[1]\n",
    "print('\\n rm:',rm)\n",
    "\n",
    "cm=np.sum(m,axis=0)/m.shape[0]\n",
    "print('\\n cm:',cm)\n",
    "\n",
    "ovm=np.sum(m)/(m.shape[0]*m.shape[1])\n",
    "print('\\n ovm:',ovm)"
   ]
  },
  {
   "cell_type": "markdown",
   "metadata": {},
   "source": [
    "2\\. Find the outer product of the following two vecotrs\n",
    "\n",
    "```python\n",
    "u = np.array([1,3,5,7])\n",
    "v = np.array([2,4,6,8])\n",
    "```\n",
    "\n",
    "Do this in the following ways:\n",
    "\n",
    "   * Using the function outer in numpy\n",
    "   * Using a nested for loop or list comprehension\n",
    "   * Using numpy broadcasting operatoins\n"
   ]
  },
  {
   "cell_type": "code",
   "execution_count": 101,
   "metadata": {},
   "outputs": [
    {
     "name": "stdout",
     "output_type": "stream",
     "text": [
      "[[ 2  4  6  8]\n",
      " [ 6 12 18 24]\n",
      " [10 20 30 40]\n",
      " [14 28 42 56]]\n",
      "[[ 2  4  6  8]\n",
      " [ 6 12 18 24]\n",
      " [10 20 30 40]\n",
      " [14 28 42 56]]\n",
      "[[ 2  4  6  8]\n",
      " [ 6 12 18 24]\n",
      " [10 20 30 40]\n",
      " [14 28 42 56]]\n"
     ]
    }
   ],
   "source": [
    "u = np.array([1,3,5,7])\n",
    "v = np.array([2,4,6,8])\n",
    "\n",
    "#a)\n",
    "print(np.outer(u,v))\n",
    "\n",
    "#b)\n",
    "\n",
    "p=np.reshape(np.array([i*j for i in u for j in v ]),(4,4))\n",
    "print(p)\n",
    "\n",
    "#c)\n",
    "b=u.reshape(4,1)*v\n",
    "print(b)\n"
   ]
  },
  {
   "cell_type": "markdown",
   "metadata": {},
   "source": [
    "3\\. Create a 10 by 6 matrix of random uniform numbers. Set all rows with any entry less than 0.1 to be zero\n",
    "\n",
    "Hint: Use the following numpy functions - np.random.random, np.any as well as Boolean indexing and the axis argument."
   ]
  },
  {
   "cell_type": "code",
   "execution_count": 102,
   "metadata": {},
   "outputs": [
    {
     "name": "stdout",
     "output_type": "stream",
     "text": [
      "[[0.09310829 0.54688916 0.25092362 0.15416284 0.89286015 0.45805495]\n",
      " [0.83484215 0.30096446 0.40768703 0.07630829 0.87012414 0.30793495]\n",
      " [0.89286015 0.45805495 0.83484215 0.30096446 0.40768703 0.07630829]\n",
      " [0.87012414 0.30793495 0.89286015 0.45805495 0.83484215 0.30096446]\n",
      " [0.40768703 0.07630829 0.87012414 0.30793495 0.89286015 0.45805495]\n",
      " [0.83484215 0.30096446 0.40768703 0.07630829 0.87012414 0.30793495]\n",
      " [0.89286015 0.45805495 0.83484215 0.30096446 0.40768703 0.07630829]\n",
      " [0.87012414 0.30793495 0.89286015 0.45805495 0.83484215 0.30096446]\n",
      " [0.40768703 0.07630829 0.87012414 0.30793495 0.89286015 0.45805495]\n",
      " [0.83484215 0.30096446 0.40768703 0.07630829 0.87012414 0.30793495]] \n",
      "\n",
      "[[0.         0.         0.         0.         0.         0.        ]\n",
      " [0.         0.         0.         0.         0.         0.        ]\n",
      " [0.         0.         0.         0.         0.         0.        ]\n",
      " [0.87012414 0.30793495 0.89286015 0.45805495 0.83484215 0.30096446]\n",
      " [0.         0.         0.         0.         0.         0.        ]\n",
      " [0.         0.         0.         0.         0.         0.        ]\n",
      " [0.         0.         0.         0.         0.         0.        ]\n",
      " [0.87012414 0.30793495 0.89286015 0.45805495 0.83484215 0.30096446]\n",
      " [0.         0.         0.         0.         0.         0.        ]\n",
      " [0.         0.         0.         0.         0.         0.        ]]\n"
     ]
    }
   ],
   "source": [
    "np.random.seed(654848)\n",
    "\n",
    "ma=np.reshape(np.arange(60).astype(float),(10,6))\n",
    "for i in range(10):\n",
    "    for j in range(6):\n",
    "        np.random.seed(np.random.randint(60))\n",
    "        ma[i][j]=np.random.random()\n",
    "\n",
    "print(ma,'\\n')\n",
    "ma[ma<0.1]=0\n",
    "\n",
    "for i in range(10):\n",
    "    for j in range(6):\n",
    "        if ma[i][j]==0:\n",
    "            for k in range(6):\n",
    "                ma[i][k]=0.\n",
    "\n",
    "\n",
    "print(ma)            \n",
    "        \n"
   ]
  },
  {
   "cell_type": "markdown",
   "metadata": {},
   "source": [
    "4\\. Use np.linspace to create an array of 100 numbers between 0 and 2π (includsive).\n",
    "\n",
    "  * Extract every 10th element using slice notation\n",
    "  * Reverse the array using slice notation\n",
    "  * Extract elements where the absolute difference between the sine and cosine functions evaluated at that element is less than 0.1\n",
    "  * Make a plot showing the sin and cos functions and indicate where they are close"
   ]
  },
  {
   "cell_type": "code",
   "execution_count": 103,
   "metadata": {},
   "outputs": [
    {
     "name": "stdout",
     "output_type": "stream",
     "text": [
      "[0.         0.06346652 0.12693304 0.19039955 0.25386607 0.31733259\n",
      " 0.38079911 0.44426563 0.50773215 0.57119866 0.63466518 0.6981317\n",
      " 0.76159822 0.82506474 0.88853126 0.95199777 1.01546429 1.07893081\n",
      " 1.14239733 1.20586385 1.26933037 1.33279688 1.3962634  1.45972992\n",
      " 1.52319644 1.58666296 1.65012947 1.71359599 1.77706251 1.84052903\n",
      " 1.90399555 1.96746207 2.03092858 2.0943951  2.15786162 2.22132814\n",
      " 2.28479466 2.34826118 2.41172769 2.47519421 2.53866073 2.60212725\n",
      " 2.66559377 2.72906028 2.7925268  2.85599332 2.91945984 2.98292636\n",
      " 3.04639288 3.10985939 3.17332591 3.23679243 3.30025895 3.36372547\n",
      " 3.42719199 3.4906585  3.55412502 3.61759154 3.68105806 3.74452458\n",
      " 3.8079911  3.87145761 3.93492413 3.99839065 4.06185717 4.12532369\n",
      " 4.1887902  4.25225672 4.31572324 4.37918976 4.44265628 4.5061228\n",
      " 4.56958931 4.63305583 4.69652235 4.75998887 4.82345539 4.88692191\n",
      " 4.95038842 5.01385494 5.07732146 5.14078798 5.2042545  5.26772102\n",
      " 5.33118753 5.39465405 5.45812057 5.52158709 5.58505361 5.64852012\n",
      " 5.71198664 5.77545316 5.83891968 5.9023862  5.96585272 6.02931923\n",
      " 6.09278575 6.15625227 6.21971879 6.28318531] \n",
      "\n",
      "[0.         0.63466518 1.26933037 1.90399555 2.53866073 3.17332591\n",
      " 3.8079911  4.44265628 5.07732146 5.71198664] \n",
      "\n",
      "[6.28318531 6.21971879 6.15625227 6.09278575 6.02931923 5.96585272\n",
      " 5.9023862  5.83891968 5.77545316 5.71198664 5.64852012 5.58505361\n",
      " 5.52158709 5.45812057 5.39465405 5.33118753 5.26772102 5.2042545\n",
      " 5.14078798 5.07732146 5.01385494 4.95038842 4.88692191 4.82345539\n",
      " 4.75998887 4.69652235 4.63305583 4.56958931 4.5061228  4.44265628\n",
      " 4.37918976 4.31572324 4.25225672 4.1887902  4.12532369 4.06185717\n",
      " 3.99839065 3.93492413 3.87145761 3.8079911  3.74452458 3.68105806\n",
      " 3.61759154 3.55412502 3.4906585  3.42719199 3.36372547 3.30025895\n",
      " 3.23679243 3.17332591 3.10985939 3.04639288 2.98292636 2.91945984\n",
      " 2.85599332 2.7925268  2.72906028 2.66559377 2.60212725 2.53866073\n",
      " 2.47519421 2.41172769 2.34826118 2.28479466 2.22132814 2.15786162\n",
      " 2.0943951  2.03092858 1.96746207 1.90399555 1.84052903 1.77706251\n",
      " 1.71359599 1.65012947 1.58666296 1.52319644 1.45972992 1.3962634\n",
      " 1.33279688 1.26933037 1.20586385 1.14239733 1.07893081 1.01546429\n",
      " 0.95199777 0.88853126 0.82506474 0.76159822 0.6981317  0.63466518\n",
      " 0.57119866 0.50773215 0.44426563 0.38079911 0.31733259 0.25386607\n",
      " 0.19039955 0.12693304 0.06346652 0.        ] \n",
      "\n",
      "[0.76159822 0.82506474 3.87145761 3.93492413]\n"
     ]
    },
    {
     "data": {
      "text/plain": [
       "[<matplotlib.lines.Line2D at 0x150d2136940>]"
      ]
     },
     "execution_count": 103,
     "metadata": {},
     "output_type": "execute_result"
    },
    {
     "data": {
      "image/png": "[encoded data removed]",
      "text/plain": [
       "<Figure size 432x288 with 1 Axes>"
      ]
     },
     "metadata": {
      "needs_background": "light"
     },
     "output_type": "display_data"
    }
   ],
   "source": [
    "import math as m\n",
    "\n",
    "a=np.linspace(0,2*m.pi,100)\n",
    "print(a,'\\n')\n",
    "\n",
    "#a)\n",
    "\n",
    "b=a[::10]\n",
    "print(b,'\\n')\n",
    "\n",
    "#b)\n",
    "\n",
    "b=a[::-1]\n",
    "print(b,'\\n')\n",
    "\n",
    "#c)\n",
    "\n",
    "b=a[abs(np.sin(a)-np.cos(a))<0.1]\n",
    "print(b)\n",
    "\n",
    "#d)\n",
    "\n",
    "import matplotlib.pyplot as plt\n",
    "\n",
    "plt.plot(a,np.sin(a))\n",
    "plt.plot(a,np.cos(a))\n",
    "plt.plot(b,np.sin(b),'o')"
   ]
  },
  {
   "cell_type": "markdown",
   "metadata": {},
   "source": [
    "5\\. Create a matrix that shows the 10 by 10 multiplication table.\n",
    "\n",
    " * Find the trace of the matrix\n",
    " * Extract the anto-diagonal (this should be ```array([10, 18, 24, 28, 30, 30, 28, 24, 18, 10])```)\n",
    " * Extract the diagnoal offset by 1 upwards (this should be ```array([ 2,  6, 12, 20, 30, 42, 56, 72, 90])```)"
   ]
  },
  {
   "cell_type": "code",
   "execution_count": 104,
   "metadata": {},
   "outputs": [
    {
     "name": "stdout",
     "output_type": "stream",
     "text": [
      "[[  1   2   3   4   5   6   7   8   9  10]\n",
      " [  2   4   6   8  10  12  14  16  18  20]\n",
      " [  3   6   9  12  15  18  21  24  27  30]\n",
      " [  4   8  12  16  20  24  28  32  36  40]\n",
      " [  5  10  15  20  25  30  35  40  45  50]\n",
      " [  6  12  18  24  30  36  42  48  54  60]\n",
      " [  7  14  21  28  35  42  49  56  63  70]\n",
      " [  8  16  24  32  40  48  56  64  72  80]\n",
      " [  9  18  27  36  45  54  63  72  81  90]\n",
      " [ 10  20  30  40  50  60  70  80  90 100]] \n",
      "\n",
      "385\n",
      "\n",
      " [10 18 24 28 30 30 28 24 18 10] \n",
      "\n",
      "[ 2  6 12 20 30 42 56 72 90]\n"
     ]
    }
   ],
   "source": [
    "mul=np.reshape(np.array([i*j for i in range(1,11) for j in range(1,11)]),(10,10))\n",
    "print(mul,'\\n')\n",
    "\n",
    "tr=np.sum(np.array([mul[i][i] for i in range(10)]))\n",
    "print(tr)\n",
    "\n",
    "imul=mul[::-1]\n",
    "antodiag=np.diagonal(imul)\n",
    "print('\\n',antodiag,'\\n')\n",
    "\n",
    "upw=np.tril(mul,1)\n",
    "upw=np.triu(upw,1)\n",
    "mask=(upw!=0)\n",
    "UP=upw[mask]\n",
    "print(UP)"
   ]
  },
  {
   "cell_type": "raw",
   "metadata": {},
   "source": [
    "6\\. Use broadcasting to create a grid of distances\n",
    "\n",
    "Route 66 crosses the following cities in the US: Chicago, Springfield, Saint-Louis, Tulsa, Oklahoma City, Amarillo, Santa Fe, Albuquerque, Flagstaff, Los Angeles\n",
    "The corresponding positions in miles are: 0, 198, 303, 736, 871, 1175, 1475, 1544, 1913, 2448\n",
    "\n",
    "  * Construct a 2D grid of distances among each city along Route 66\n",
    "  * Convert that in km (those savages...)"
   ]
  },
  {
   "cell_type": "code",
   "execution_count": 105,
   "metadata": {},
   "outputs": [
    {
     "name": "stdout",
     "output_type": "stream",
     "text": [
      "[[   0  198  303  736  871 1175 1475 1544 1913 2448]\n",
      " [ 198    0  105  538  673  977 1277 1346 1715 2250]\n",
      " [ 303  105    0  433  568  872 1172 1241 1610 2145]\n",
      " [ 736  538  433    0  135  439  739  808 1177 1712]\n",
      " [ 871  673  568  135    0  304  604  673 1042 1577]\n",
      " [1175  977  872  439  304    0  300  369  738 1273]\n",
      " [1475 1277 1172  739  604  300    0   69  438  973]\n",
      " [1544 1346 1241  808  673  369   69    0  369  904]\n",
      " [1913 1715 1610 1177 1042  738  438  369    0  535]\n",
      " [2448 2250 2145 1712 1577 1273  973  904  535    0]]\n",
      "\n",
      " [[   0.       318.64932  487.63002 1184.47424 1401.73514 1890.9745\n",
      "  2373.7765  2484.82096 3078.66742 3939.66432]\n",
      " [ 318.64932    0.       168.9807   865.82492 1083.08582 1572.32518\n",
      "  2055.12718 2166.17164 2760.0181  3621.015  ]\n",
      " [ 487.63002  168.9807     0.       696.84422  914.10512 1403.34448\n",
      "  1886.14648 1997.19094 2591.0374  3452.0343 ]\n",
      " [1184.47424  865.82492  696.84422    0.       217.2609   706.50026\n",
      "  1189.30226 1300.34672 1894.19318 2755.19008]\n",
      " [1401.73514 1083.08582  914.10512  217.2609     0.       489.23936\n",
      "   972.04136 1083.08582 1676.93228 2537.92918]\n",
      " [1890.9745  1572.32518 1403.34448  706.50026  489.23936    0.\n",
      "   482.802    593.84646 1187.69292 2048.68982]\n",
      " [2373.7765  2055.12718 1886.14648 1189.30226  972.04136  482.802\n",
      "     0.       111.04446  704.89092 1565.88782]\n",
      " [2484.82096 2166.17164 1997.19094 1300.34672 1083.08582  593.84646\n",
      "   111.04446    0.       593.84646 1454.84336]\n",
      " [3078.66742 2760.0181  2591.0374  1894.19318 1676.93228 1187.69292\n",
      "   704.89092  593.84646    0.       860.9969 ]\n",
      " [3939.66432 3621.015   3452.0343  2755.19008 2537.92918 2048.68982\n",
      "  1565.88782 1454.84336  860.9969     0.     ]]\n"
     ]
    }
   ],
   "source": [
    "mile=np.array([0, 198, 303, 736, 871, 1175, 1475, 1544, 1913, 2448])\n",
    "\n",
    "distM=np.reshape(np.array([abs(i-j) for i in mile for j in mile]),(10,10))\n",
    "print(distM)\n",
    "distKM=distM*1.60934\n",
    "\n",
    "print('\\n',distKM)"
   ]
  },
  {
   "cell_type": "markdown",
   "metadata": {},
   "source": [
    "7\\. Prime numbers sieve: compute the prime numbers in the 0-N (N=99 to start with) range with a sieve (mask).\n",
    "  * Constract a shape (100,) boolean array, the mask\n",
    "  * Identify the multiples of each number starting from 2 and set accordingly the corresponding mask element\n",
    "  * Apply the mask to obtain an array of ordered prime numbers\n",
    "  * Check the performances (timeit); how does it scale with N?\n",
    "  * Implement the optimization suggested in the [sieve of Eratosthenes](https://en.wikipedia.org/wiki/Sieve_of_Eratosthenes)"
   ]
  },
  {
   "cell_type": "code",
   "execution_count": null,
   "metadata": {},
   "outputs": [
    {
     "name": "stdout",
     "output_type": "stream",
     "text": [
      "[3, 5, 7, 11, 13, 17, 19, 23, 29, 31, 37, 41, 43, 47, 53, 59, 61, 67, 71, 73, 79, 83, 89, 97]\n"
     ]
    }
   ],
   "source": [
    "import time\n",
    "import matplotlib.pyplot as plt\n",
    "\n",
    "def prim(n):\n",
    "    mask=np.array([True for i in range(2,n+2)])\n",
    "    N=np.arange(3,n)\n",
    "    \n",
    "    for i in range(2,n):\n",
    "        for j in range(2,int(i**0.5)+1):\n",
    "            if i%j==0 and j!=1: mask[i]=False\n",
    "    \n",
    "    primes=[i for i in N if mask[i]==True]\n",
    "    \n",
    "    return primes\n",
    "print(prim(99))\n",
    "\n",
    "t=[]\n",
    "NUM=[99,999,9999,99999]\n",
    "for i in NUM:\n",
    "    t1=time.time()\n",
    "    prim(i)\n",
    "    t2=time.time()\n",
    "    t.append(t2-t1)\n",
    "\n",
    "plt.plot(NUM,t,'r')\n",
    "\n",
    "plt.xlabel('N')\n",
    "plt.ylabel('t[s]')\n",
    "plt.figure()\n",
    "\n",
    "#as we can see the time to calculate the primes grow exponentially with the first method\n",
    "\n",
    "def eratos(n):\n",
    "    N=np.arange(2,n)\n",
    "    cont=2\n",
    "    pr=[]\n",
    "    s=True\n",
    "    while s==True:\n",
    "        \n",
    "        mask=(N%cont!=0)\n",
    "        aux=N[mask]\n",
    "        N=aux\n",
    "        if len(aux)>0:\n",
    "            cont=aux[0]\n",
    "            pr.append(cont)\n",
    "        else: s=False\n",
    "    return pr\n",
    "            \n",
    "print('\\n',eratos(99)) \n",
    "\n",
    "t=[]\n",
    "NUM=[99,999,9999,99999]\n",
    "for i in NUM:\n",
    "    t1=time.time()\n",
    "    eratos(i)\n",
    "    t2=time.time()\n",
    "    t.append(t2-t1)\n",
    "\n",
    "plt.plot(NUM,t,'r')\n",
    "\n",
    "plt.xlabel('N')\n",
    "plt.ylabel('t[s]')\n",
    "plt.figure()\n",
    "\n",
    "#with the Eratosthenes method the time also increase exponentially but with one order of magnitude less on the time.\n"
   ]
  },
  {
   "cell_type": "markdown",
   "metadata": {},
   "source": [
    "**N.B. the following exercises are meant to be solved only if you are familiar with the numpy random library. If not you can skip them (postponed for one of the next exercise sessions)**\n"
   ]
  },
  {
   "cell_type": "markdown",
   "metadata": {},
   "source": [
    "8\\. Diffusion using random walk\n",
    "\n",
    "Consider a simple random walk process: at each step in time, a walker jumps right or left (+1 or -1) with equal probability. The goal is to find the typical distance from the origin of a random walker after a given amount of time. \n",
    "To do that, let's simulate many walkers and create a 2D array with each walker as a raw and the actual time evolution as columns\n",
    "\n",
    "  * Take 1000 walkers and let them walk for 200 steps\n",
    "  * Use randint to create a 2D array of size walkers x steps with values -1 or 1\n",
    "  * Build the actual walking distances for each walker (i.e. another 2D array \"summing on each raw\")\n",
    "  * Take the square of that 2D array (elementwise)\n",
    "  * Compute the mean of the squared distances at each step (i.e. the mean along the columns)\n",
    "  * Plot the average distances (sqrt(distance\\*\\*2)) as a function of time (step)\n",
    "  \n",
    "Did you get what you expected?"
   ]
  },
  {
   "cell_type": "code",
   "execution_count": 31,
   "metadata": {},
   "outputs": [
    {
     "name": "stdout",
     "output_type": "stream",
     "text": [
      "[[-1  1 -1 ...  1 -1 -1]\n",
      " [ 1 -1  1 ... -1 -1 -1]\n",
      " [-1 -1  1 ... -1  1  1]\n",
      " ...\n",
      " [-1  1 -1 ... -1 -1  1]\n",
      " [ 1  1  1 ...  1 -1 -1]\n",
      " [ 1 -1 -1 ... -1  1 -1]]\n"
     ]
    },
    {
     "data": {
      "image/png": "[encoded data removed]",
      "text/plain": [
       "<Figure size 432x288 with 1 Axes>"
      ]
     },
     "metadata": {
      "needs_background": "light"
     },
     "output_type": "display_data"
    },
    {
     "name": "stdout",
     "output_type": "stream",
     "text": [
      "One would expet the mean of the distance to be zero \n"
     ]
    }
   ],
   "source": [
    "import numpy as np\n",
    "import matplotlib.pyplot as plt\n",
    "#i will create an array with 0 and 1 and then subtitute the 0 by -1\n",
    "x=np.random.randint(2,size=(1000,200))\n",
    "mask=(x<1)\n",
    "x[mask]=-1\n",
    "print(x)\n",
    "\n",
    "distances=np.cumsum(x,axis=1)\n",
    "#print(distances)\n",
    "distances=(distances**2)\n",
    "m=np.average(distances,axis=0)\n",
    "\n",
    "plt.plot(np.arange(200),np.sqrt(m))\n",
    "plt.xlabel('steps')\n",
    "plt.ylabel('average distance')\n",
    "plt.show()\n",
    "\n",
    "print('One would expet the mean of the distance to be zero but as we can see each step the walkers are further away from the origin. ')"
   ]
  },
  {
   "cell_type": "markdown",
   "metadata": {},
   "source": [
    "9\\. Analyze a data file \n",
    "  * Download the population of hares, lynxes and carrots at the beginning of the last century.\n",
    "    ```python\n",
    "    ! wget https://www.dropbox.com/s/3vigxoqayo389uc/populations.txt\n",
    "    ```\n",
    "\n",
    "  * Check the content by looking within the file\n",
    "  * Load the data (use an appropriate numpy method) into a 2D array\n",
    "  * Create arrays out of the columns, the arrays being (in order): *year*, *hares*, *lynxes*, *carrots* \n",
    "  * Plot the 3 populations over the years\n",
    "  * Compute the main statistical properties of the dataset (mean, std, correlations, etc.)\n",
    "  * Which species has the highest population each year?\n",
    "\n",
    "Do you feel there is some evident correlation here? [Studies](https://www.enr.gov.nt.ca/en/services/lynx/lynx-snowshoe-hare-cycle) tend to believe so."
   ]
  },
  {
   "cell_type": "code",
   "execution_count": 49,
   "metadata": {},
   "outputs": [
    {
     "name": "stderr",
     "output_type": "stream",
     "text": [
      "  % Total    % Received % Xferd  Average Speed   Time    Time     Time  Current\n",
      "                                 Dload  Upload   Total   Spent    Left  Speed\n",
      "\n",
      "  0     0    0     0    0     0      0      0 --:--:-- --:--:-- --:--:--     0\n",
      "100   140    0   140    0     0    431      0 --:--:-- --:--:-- --:--:--   436\n"
     ]
    },
    {
     "name": "stdout",
     "output_type": "stream",
     "text": [
      "301 Moved Permanently\n",
      "The resource has been moved to /s/raw/3vigxoqayo389uc/populations.txt;\n",
      "you should be redirected automatically.\n",
      "\n",
      "\n"
     ]
    },
    {
     "data": {
      "image/png": "[encoded data removed]",
      "text/plain": [
       "<Figure size 432x288 with 1 Axes>"
      ]
     },
     "metadata": {
      "needs_background": "light"
     },
     "output_type": "display_data"
    },
    {
     "name": "stdout",
     "output_type": "stream",
     "text": [
      "for hares: \n",
      "\n",
      "mean:  34080.95238095238 \n",
      " std:  20897.906458089667\n",
      "for lynxes: \n",
      "\n",
      "mean:  20166.666666666668 \n",
      " std:  16254.591536908763\n",
      "for carrots: \n",
      "\n",
      "mean:  42400.0 \n",
      " std:  3322.5062255844787\n",
      "correlations are: \n",
      "\n",
      "harex-lynxes: [1.494612e+10]\n",
      "harex-carrots: [3.032147e+10]\n",
      "carrots-lynxes: [1.718454e+10]\n"
     ]
    }
   ],
   "source": [
    "!curl https://www.dropbox.com/s/3vigxoqayo389uc/populations.txt\n",
    "    \n",
    "popu=np.loadtxt('populations.txt')\n",
    "year=popu[:,0]\n",
    "hares=popu[:,1]\n",
    "lynxes=popu[:,2]\n",
    "carrots=popu[:,3]\n",
    "\n",
    "plt.plot(year,hares)\n",
    "plt.plot(year,lynxes)\n",
    "plt.plot(year,carrots)\n",
    "plt.xlabel('years')\n",
    "plt.ylabel('populations')\n",
    "plt.legend(['hares','lynxes','carrots'])\n",
    "plt.show()\n",
    "\n",
    "print('for hares: \\n')\n",
    "print('mean: ',np.mean(hares),'\\n std: ',np.std(hares))\n",
    "print('for lynxes: \\n')\n",
    "print('mean: ',np.mean(lynxes),'\\n std: ',np.std(lynxes))\n",
    "print('for carrots: \\n')\n",
    "print('mean: ',np.mean(carrots),'\\n std: ',np.std(carrots))\n",
    "print('correlations are: \\n')\n",
    "print('harex-lynxes:',np.correlate(hares, lynxes))\n",
    "print('harex-carrots:',np.correlate(hares, carrots))\n",
    "print('carrots-lynxes:',np.correlate(carrots, lynxes))"
   ]
  },
  {
   "cell_type": "code",
   "execution_count": null,
   "metadata": {},
   "outputs": [],
   "source": []
  }
 ],
 "metadata": {
  "kernelspec": {
   "display_name": "Python 3 (ipykernel)",
   "language": "python",
   "name": "python3"
  },
  "language_info": {
   "codemirror_mode": {
    "name": "ipython",
    "version": 3
   },
   "file_extension": ".py",
   "mimetype": "text/x-python",
   "name": "python",
   "nbconvert_exporter": "python",
   "pygments_lexer": "ipython3",
   "version": "3.8.8"
  }
 },
 "nbformat": 4,
 "nbformat_minor": 2
}
