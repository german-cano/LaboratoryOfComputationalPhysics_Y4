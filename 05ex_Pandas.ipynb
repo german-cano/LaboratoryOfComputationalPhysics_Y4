{
 "cells": [
  {
   "cell_type": "markdown",
   "metadata": {},
   "source": [
    "## Pandas analysis\n",
    "\n",
    "This exercise consists in analyzing a dataset containg timing information from a series of Time-to-Digital-Converters (TDC) implemented in a couple of FPGAs. Each measurement (i.e. each row of the input file) consists of a flag that specifies the type of message ('HEAD', which in this case is always 1), two addresses of the TDC providing the signal ('FPGA' and 'TDC_CHANNEL'), and the timing information ('ORBIT_CNT', 'BX_COUNTER', and 'TDC_MEAS'). Each TDC count corresponds to 25/30 ns, whereas a unit of BX_COUNTER corresponds to 25 ns, and the ORBIT_CNT is increased every 'x' BX_COUNTER. This allows to store the time in a similar way to hours, minutes and seconds."
   ]
  },
  {
   "cell_type": "code",
   "execution_count": 29,
   "metadata": {
    "scrolled": true
   },
   "outputs": [
    {
     "name": "stdout",
     "output_type": "stream",
     "text": [
      "301 Moved Permanently\n",
      "The resource has been moved to /s/raw/xvjzaxzz3ysphme/data_000637.txt;\n",
      "you should be redirected automatically.\n",
      "\n",
      "\n"
     ]
    },
    {
     "name": "stderr",
     "output_type": "stream",
     "text": [
      "  % Total    % Received % Xferd  Average Speed   Time    Time     Time  Current\n",
      "                                 Dload  Upload   Total   Spent    Left  Speed\n",
      "\n",
      "  0     0    0     0    0     0      0      0 --:--:-- --:--:-- --:--:--     0\n",
      "  0     0    0     0    0     0      0      0 --:--:-- --:--:-- --:--:--     0\n",
      "100   140    0   140    0     0    142      0 --:--:-- --:--:-- --:--:--   142\n"
     ]
    }
   ],
   "source": [
    "# If you didn't download it yet, please get the relevant file now!\n",
    "!curl https://www.dropbox.com/s/xvjzaxzz3ysphme/data_000637.txt -P ~/data/"
   ]
  },
  {
   "cell_type": "markdown",
   "metadata": {},
   "source": [
    "1\\. Create a Pandas DataFrame reading N rows of the 'data_000637.txt' dataset. Choose N to be smaller than or equal to the maximum number of rows and larger that 10k.\n",
    "\n",
    "2\\. Find out the number of BX in a ORBIT (the value 'x').\n",
    "\n",
    "3\\. Find out how much the data taking lasted. You can either make an estimate based on the fraction of the measurements (rows) you read, or perform this check precisely by reading out the whole dataset.\n",
    "\n",
    "4\\. Create a new column with the absolute time in ns (as a combination of the other three columns with timing information).\n",
    "\n",
    "5\\. Replace the values (all 1) of the HEAD column randomly with 0 or 1.\n",
    "\n",
    "6\\. Create a new DataFrame that contains only the rows with HEAD=1.\n",
    "\n",
    "7\\. Make two occupancy plots (one for each FPGA), i.e. plot the number of counts per TDC channel\n",
    "\n",
    "8\\. Use the groupby method to find out the noisy channels, i.e. the TDC channels with most counts (say the top 3)\n",
    "\n",
    "9\\. Count the number of unique orbits. Count the number of unique orbits with at least one measurement from TDC_CHANNEL=139"
   ]
  },
  {
   "cell_type": "code",
   "execution_count": 17,
   "metadata": {},
   "outputs": [
    {
     "name": "stdout",
     "output_type": "stream",
     "text": [
      " Data intake took:  0.9224460625555366  seconds\n"
     ]
    },
    {
     "data": {
      "image/png": "[encoded data removed]",
      "text/plain": [
       "<Figure size 432x288 with 1 Axes>"
      ]
     },
     "metadata": {
      "needs_background": "light"
     },
     "output_type": "display_data"
    },
    {
     "data": {
      "image/png": "[encoded data removed]",
      "text/plain": [
       "<Figure size 432x288 with 1 Axes>"
      ]
     },
     "metadata": {
      "needs_background": "light"
     },
     "output_type": "display_data"
    },
    {
     "name": "stdout",
     "output_type": "stream",
     "text": [
      "               HEAD    FPGA  ORBIT_CNT  BX_COUNTER  TDC_MEAS  tot_time\n",
      "TDC_CHANNEL                                                           \n",
      "139          100201  100201     100201      100201    100201    100201\n",
      "64            61118   61118      61118       61118     61118     61118\n",
      "63            59841   59841      59841       59841     59841     59841\n",
      "number of unique orbits: \n",
      " 10353\n",
      "number of orbits for tdc=139: \n",
      " ORBIT_CNT    10328\n",
      "Name: 139, dtype: int64\n"
     ]
    }
   ],
   "source": [
    "import pandas as pd\n",
    "import numpy as np\n",
    "import matplotlib.pyplot as plt\n",
    "file='data_000637.txt'\n",
    "\n",
    "N=np.random.randint(10000,1310719)\n",
    "\n",
    "#1)\n",
    "f=pd.read_csv(file, nrows=N)\n",
    "c=pd.DataFrame(f)\n",
    "c\n",
    "\n",
    "#2)\n",
    "#the maximum value of the BX_COUNTER will be when the orbit_cnt changes\n",
    "BX=c['BX_COUNTER'].max()\n",
    "\n",
    "#3)\n",
    "\n",
    "time1=c['ORBIT_CNT'][0]*BX*25e-09+c['BX_COUNTER'][0]*25e-09+c['TDC_MEAS'][0]*25e-09/30\n",
    "time2=c['ORBIT_CNT'][N-1]*BX*25e-09+c['BX_COUNTER'][N-1]*25e-09+c['TDC_MEAS'][N-1]*25e-09/30\n",
    "\n",
    "print(' Data intake took: ', time2-time1,' seconds')\n",
    "\n",
    "#4)\n",
    "\n",
    "time_ns=c['ORBIT_CNT']*BX+c['BX_COUNTER']*25+c['TDC_MEAS']*25/30 \n",
    "c['tot_time']=time_ns\n",
    "\n",
    "\n",
    "\n",
    "#5)\n",
    "c['HEAD']=np.random.randint(0,2,N)\n",
    "\n",
    "#6)\n",
    "\n",
    "c2=c.copy()\n",
    "c2[c2['HEAD']>0]\n",
    "#print(c2)\n",
    "\n",
    "#7)\n",
    "#for 'FPGA'==0\n",
    "\n",
    "g0=c[c['FPGA']==0]['TDC_CHANNEL']\n",
    "\n",
    "plt.hist(g0)\n",
    "plt.show()\n",
    "#for 'FPGA'==1\n",
    "g1=c[c['FPGA']==1]['TDC_CHANNEL']\n",
    "\n",
    "plt.hist(g1)\n",
    "plt.show()\n",
    "\n",
    "#8)\n",
    "\n",
    "c3=c.copy()\n",
    "print(c3.groupby(c3['TDC_CHANNEL']).count().nlargest(3,columns='FPGA',keep='all'))#COLUMNS CAN BE WHATEVER COLUMN EXCEPT 'TDC_CHANNEL'\n",
    "\n",
    "#9)\n",
    "\n",
    "print('number of unique orbits: \\n',len(np.unique(c['ORBIT_CNT'])))\n",
    "\n",
    "c4=(c3.groupby('TDC_CHANNEL').nunique())\n",
    "print('number of orbits for tdc=139: \\n',c4.loc[139,['ORBIT_CNT']])\n"
   ]
  },
  {
   "cell_type": "code",
   "execution_count": null,
   "metadata": {},
   "outputs": [],
   "source": []
  }
 ],
 "metadata": {
  "kernelspec": {
   "display_name": "Python 3 (ipykernel)",
   "language": "python",
   "name": "python3"
  },
  "language_info": {
   "codemirror_mode": {
    "name": "ipython",
    "version": 3
   },
   "file_extension": ".py",
   "mimetype": "text/x-python",
   "name": "python",
   "nbconvert_exporter": "python",
   "pygments_lexer": "ipython3",
   "version": "3.8.8"
  }
 },
 "nbformat": 4,
 "nbformat_minor": 2
}
